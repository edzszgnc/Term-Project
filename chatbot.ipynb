{
  "cells": [
    {
      "cell_type": "code",
      "execution_count": 1,
      "metadata": {
        "_cell_guid": "b1076dfc-b9ad-4769-8c92-a6c4dae69d19",
        "_uuid": "8f2839f25d086af736a60e9eeb907d3b93b6e0e5",
        "execution": {
          "iopub.execute_input": "2022-07-24T18:28:47.992279Z",
          "iopub.status.busy": "2022-07-24T18:28:47.991616Z",
          "iopub.status.idle": "2022-07-24T18:28:53.363991Z",
          "shell.execute_reply": "2022-07-24T18:28:53.363384Z"
        },
        "papermill": {
          "duration": 5.399991,
          "end_time": "2022-07-24T18:28:53.364237",
          "exception": false,
          "start_time": "2022-07-24T18:28:47.964246",
          "status": "completed"
        },
        "tags": [],
        "id": "obdpRfhbmy82"
      },
      "outputs": [],
      "source": [
        "#Imports libraries like tensorflow, numpy, matplotlib, sklearn. Tensorflow is a library for artificial neural networks and deep learning. \n",
        "#Numpy is a library for mathematical calculations. Matplotlib is a library used to generate graphs. \n",
        "#Sklearn is a library for using machine learning algorithms.\n",
        "\n",
        "import tensorflow as tf\n",
        "\n",
        "import unicodedata\n",
        "import re\n",
        "import numpy as np\n",
        "import os\n",
        "import io\n",
        "import time\n",
        "\n",
        "import matplotlib.pyplot as plt\n",
        "import matplotlib.ticker as ticker\n",
        "from sklearn.model_selection import train_test_split\n",
        "\n",
        "\n",
        "import warnings\n",
        "warnings.filterwarnings('ignore')"
      ]
    },
    {
      "cell_type": "markdown",
      "metadata": {
        "papermill": {
          "duration": 0.023841,
          "end_time": "2022-07-24T18:28:53.413985",
          "exception": false,
          "start_time": "2022-07-24T18:28:53.390144",
          "status": "completed"
        },
        "tags": [],
        "id": "Hs-Y-Dsamy85"
      },
      "source": [
        "# Prepare Data"
      ]
    },
    {
      "cell_type": "markdown",
      "source": [
        "It reads a dataset named 'dialogs.txt' and reads its contents. Next, the contents of the dataset are compiled into a list and this list is divided into questions and answers. These lists are assigned to variables named 'questions' and 'answers'.\n",
        "\n",
        "This snippet splits each line in the file by the '\\n' character and splits each line by the '\\t' character. Thus, the first part of each line is considered a question, and the second part is considered an answer. These questions and answers are assigned to the 'questions' and 'answers' lists."
      ],
      "metadata": {
        "id": "n7D7TRsiPL-R"
      }
    },
    {
      "cell_type": "code",
      "execution_count": 2,
      "metadata": {
        "execution": {
          "iopub.execute_input": "2022-07-24T18:28:53.467024Z",
          "iopub.status.busy": "2022-07-24T18:28:53.466363Z",
          "iopub.status.idle": "2022-07-24T18:28:53.476120Z",
          "shell.execute_reply": "2022-07-24T18:28:53.475508Z"
        },
        "papermill": {
          "duration": 0.037854,
          "end_time": "2022-07-24T18:28:53.476253",
          "exception": false,
          "start_time": "2022-07-24T18:28:53.438399",
          "status": "completed"
        },
        "tags": [],
        "id": "onhW6sS5my87"
      },
      "outputs": [],
      "source": [
        "#The code reads the contents of a dataset named 'dialogs.txt' and compiles them into lists of questions and answers. It uses the '\\n' and '\\t' characters to separate \n",
        "#the lines and distinguish between questions and answers, which are then assigned to variables.\n",
        "file = open('dialogs.txt','r').read()\n",
        "qna_list = [f.split('\\t') for f in file.split('\\n')]\n",
        "\n",
        "questions = [x[0] for x in qna_list]\n",
        "answers = [x[1] for x in qna_list]"
      ]
    },
    {
      "cell_type": "markdown",
      "source": [
        "It is used to print data stored in the 'questions' and 'answers' lists. In particular, the data in the questions[2] and answers[2] indexes are being printed. This data represents the question and answer on line 3 in the dialog dataset."
      ],
      "metadata": {
        "id": "sicw3_dbPTrF"
      }
    },
    {
      "cell_type": "code",
      "execution_count": 3,
      "metadata": {
        "execution": {
          "iopub.execute_input": "2022-07-24T18:28:53.594556Z",
          "iopub.status.busy": "2022-07-24T18:28:53.593752Z",
          "iopub.status.idle": "2022-07-24T18:28:53.598152Z",
          "shell.execute_reply": "2022-07-24T18:28:53.598583Z"
        },
        "papermill": {
          "duration": 0.034261,
          "end_time": "2022-07-24T18:28:53.598714",
          "exception": false,
          "start_time": "2022-07-24T18:28:53.564453",
          "status": "completed"
        },
        "tags": [],
        "colab": {
          "base_uri": "https://localhost:8080/"
        },
        "id": "2KaTGA16my87",
        "outputId": "c671bea3-fdd4-48d3-c725-ff2251d4f406"
      },
      "outputs": [
        {
          "output_type": "stream",
          "name": "stdout",
          "text": [
            "Q:  i'm pretty good. thanks for asking.\n",
            "A:  no problem. so how have you been?\n"
          ]
        }
      ],
      "source": [
        "print(\"Q: \", questions[2])\n",
        "print(\"A: \", answers[2])"
      ]
    },
    {
      "cell_type": "markdown",
      "metadata": {
        "papermill": {
          "duration": 0.024684,
          "end_time": "2022-07-24T18:28:53.648541",
          "exception": false,
          "start_time": "2022-07-24T18:28:53.623857",
          "status": "completed"
        },
        "tags": [],
        "id": "-erpFKbZmy89"
      },
      "source": [
        "# Preprocessing the sentences"
      ]
    },
    {
      "cell_type": "markdown",
      "source": [
        "It contains two functions that perform the preprocessing steps of a given sentence.\n",
        "\n",
        "The \"unicode_to_ascii(s)\" function converts a given unicode sentence to ascii characters. This function converts each character in the sentence into NFD (Canonical Syntax Form) form with the unicodedata.normalize() function and then checks the category of the character using the unicodedata.category() function for each character of the sentence. If the character has Mn (Mark) in its category, that character is removed from the sentence.\n",
        "\n",
        "The \"preprocess_sentence(w)\" function cleans up a given sentence and performs the preprocessing steps. First, the sentence is lowercase and leading and trailing spaces are deleted. Then a space is placed between the punctuation marks in the sentence. If there is more than one space in the sentence, it is made into a single space. Only letters, punctuation marks and numbers remain in the sentence. Finally, the sentence starts with <start> and ends with <end>."
      ],
      "metadata": {
        "id": "bE-FKoHfQZv6"
      }
    },
    {
      "cell_type": "code",
      "execution_count": 4,
      "metadata": {
        "execution": {
          "iopub.execute_input": "2022-07-24T18:28:53.706364Z",
          "iopub.status.busy": "2022-07-24T18:28:53.705749Z",
          "iopub.status.idle": "2022-07-24T18:28:53.709660Z",
          "shell.execute_reply": "2022-07-24T18:28:53.709232Z"
        },
        "papermill": {
          "duration": 0.036773,
          "end_time": "2022-07-24T18:28:53.710124",
          "exception": false,
          "start_time": "2022-07-24T18:28:53.673351",
          "status": "completed"
        },
        "tags": [],
        "id": "4KErhRvomy89"
      },
      "outputs": [],
      "source": [
        "#The code has two functions for preprocessing sentences, converting unicode to ascii and cleaning up the sentence by lowercasing, removing extra spaces, \n",
        "#and keeping only letters, punctuation marks, numbers and adding a '.' at the start and end.\n",
        "def unicode_to_ascii(s):\n",
        "    return ''.join(c for c in unicodedata.normalize('NFD', s)\n",
        "      if unicodedata.category(c) != 'Mn')\n",
        "\n",
        "\n",
        "def preprocess_sentence(w):\n",
        "    w = unicode_to_ascii(w.lower().strip())\n",
        "\n",
        "    w = re.sub(r\"([?.!,¿])\", r\" \\1 \", w)\n",
        "    w = re.sub(r'[\" \"]+', \" \", w)\n",
        "\n",
        "    w = re.sub(r\"[^a-zA-Z?.!,¿]+\", \" \", w)\n",
        "    w = w.strip()\n",
        "\n",
        "    w = '<start> ' + w + ' <end>'\n",
        "    return w"
      ]
    },
    {
      "cell_type": "markdown",
      "source": [
        "It processes the sentences in the 'questions' and 'answers' lists using the preprocessing functions and saves the new lists as 'pre_questions' and 'pre_answers'. First, the sentences in the questions[0] and answers[0] indexes are inserted into the preprocessing functions and printed to the screen. Next, all the sentences in the questions and answers lists are inserted into the preprocessing functions and the new lists are saved as pre_questions and pre_answers. This step is the preprocessing necessary for the chatbot to understand the questions and answers later."
      ],
      "metadata": {
        "id": "U8I_mPkCQ4iA"
      }
    },
    {
      "cell_type": "code",
      "execution_count": 5,
      "metadata": {
        "execution": {
          "iopub.execute_input": "2022-07-24T18:28:53.812323Z",
          "iopub.status.busy": "2022-07-24T18:28:53.786579Z",
          "iopub.status.idle": "2022-07-24T18:28:53.983517Z",
          "shell.execute_reply": "2022-07-24T18:28:53.984078Z"
        },
        "papermill": {
          "duration": 0.249206,
          "end_time": "2022-07-24T18:28:53.984226",
          "exception": false,
          "start_time": "2022-07-24T18:28:53.735020",
          "status": "completed"
        },
        "tags": [],
        "colab": {
          "base_uri": "https://localhost:8080/"
        },
        "id": "9kj2k8jNmy8-",
        "outputId": "d0a71bcd-2687-4335-b493-694f94fc83dc"
      },
      "outputs": [
        {
          "output_type": "stream",
          "name": "stdout",
          "text": [
            "<start> hi , how are you doing ? <end>\n",
            "<start> i m fine . how about yourself ? <end>\n"
          ]
        }
      ],
      "source": [
        "#It processes the sentences in the `questions' and 'answers' lists using the preprocessing functions and saves the new lists as 'pre_questions' and 'pre_answers'.\n",
        "#First, the sentences in the questions[0] and answers[0] indexes are inserted into the preprocessing functions and printed to the screen.\n",
        "print(preprocess_sentence(questions[0]))\n",
        "print(preprocess_sentence(answers[0]))\n",
        "\n",
        "pre_questions = [preprocess_sentence(w) for w in questions]\n",
        "pre_answers = [preprocess_sentence(w) for w in answers]"
      ]
    },
    {
      "cell_type": "markdown",
      "metadata": {
        "papermill": {
          "duration": 0.025708,
          "end_time": "2022-07-24T18:28:54.036529",
          "exception": false,
          "start_time": "2022-07-24T18:28:54.010821",
          "status": "completed"
        },
        "tags": [],
        "id": "4Vvpy-Mwmy8-"
      },
      "source": [
        "# Tokenizing"
      ]
    },
    {
      "cell_type": "markdown",
      "source": [
        "Creates a function to tokenize the given language. Tokenization is the process of converting texts into numeric values. These numerical values are processed by artificial neural networks.\n",
        "\n",
        "Inside the function, a Tokenizer object is created. This object is used to clean the filters. Next, the tokenizer object is trained to the texts of the given language with the fit_on_texts() function.\n",
        "\n",
        "Then the texts are converted to numeric values using the tokenizer object. These numeric values are saved in the tensor variable.\n",
        "\n",
        "Finally, the tensor values are padded with zeros with the pad_sequences() function. This ensures that all sentences are the same length. The function returns the tensor and lang_tokenizer values."
      ],
      "metadata": {
        "id": "BV2mpu6TRSCG"
      }
    },
    {
      "cell_type": "code",
      "execution_count": 6,
      "metadata": {
        "execution": {
          "iopub.execute_input": "2022-07-24T18:28:54.094147Z",
          "iopub.status.busy": "2022-07-24T18:28:54.093294Z",
          "iopub.status.idle": "2022-07-24T18:28:54.095255Z",
          "shell.execute_reply": "2022-07-24T18:28:54.095880Z"
        },
        "papermill": {
          "duration": 0.033088,
          "end_time": "2022-07-24T18:28:54.096062",
          "exception": false,
          "start_time": "2022-07-24T18:28:54.062974",
          "status": "completed"
        },
        "tags": [],
        "id": "nLZARktemy8-"
      },
      "outputs": [],
      "source": [
        "#Creates a function to tokenize the given language. Tokenization is the process of converting texts into numeric values.\n",
        "#Next, the tokenizer object is trained to the texts of the given language with the fit_on_texts() function.\n",
        "#Then the texts are converted to numeric values using the tokenizer object. The function returns the tensor and lang_tokenizer values.\n",
        "def tokenize(lang):\n",
        "    lang_tokenizer = tf.keras.preprocessing.text.Tokenizer(\n",
        "      filters='')\n",
        "    lang_tokenizer.fit_on_texts(lang)\n",
        "\n",
        "    tensor = lang_tokenizer.texts_to_sequences(lang)\n",
        "\n",
        "    tensor = tf.keras.preprocessing.sequence.pad_sequences(tensor,\n",
        "                                                         padding='post')\n",
        "\n",
        "    return tensor, lang_tokenizer"
      ]
    },
    {
      "cell_type": "markdown",
      "source": [
        "Creates a function to load the given dataset. This function creates cleaned input-output pairs using the 'pre_questions' and 'pre_answers' lists.\n",
        "The function also ensures that the number of samples specified by the num_examples variable is taken.\n",
        "\n",
        "Next, the function tokenizes the 'pre_questions' and 'pre_answers' lists using the tokenize() function. This tokenized data is saved in the input_tensor and target_tensor variables.\n",
        "\n",
        "Finally, it returns the tokenizer objects along with the generated input_tensor and target_tensor values."
      ],
      "metadata": {
        "id": "91xTmSwrRTo_"
      }
    },
    {
      "cell_type": "code",
      "execution_count": 7,
      "metadata": {
        "execution": {
          "iopub.execute_input": "2022-07-24T18:28:54.181740Z",
          "iopub.status.busy": "2022-07-24T18:28:54.180873Z",
          "iopub.status.idle": "2022-07-24T18:28:54.185617Z",
          "shell.execute_reply": "2022-07-24T18:28:54.186294Z"
        },
        "papermill": {
          "duration": 0.058212,
          "end_time": "2022-07-24T18:28:54.186499",
          "exception": false,
          "start_time": "2022-07-24T18:28:54.128287",
          "status": "completed"
        },
        "tags": [],
        "id": "cyqRYgmlmy8_"
      },
      "outputs": [],
      "source": [
        "#This function creates cleaned input-output pairs using the `pre_questions' and 'pre_answers' lists.\n",
        "#Next, the function tokenizes the 'pre_questions' and 'pre_answers' lists using the tokenize() function.\n",
        "#This tokenized data is saved in the input_tensor and target_tensor variables.\n",
        "def load_dataset(data, num_examples=None):\n",
        "    # creating the cleaned input, output pairs\n",
        "    if(num_examples != None):\n",
        "        targ_lang, inp_lang, = data[:num_examples]\n",
        "    else:\n",
        "        targ_lang, inp_lang, = data\n",
        "\n",
        "    input_tensor, inp_lang_tokenizer = tokenize(inp_lang)\n",
        "    target_tensor, targ_lang_tokenizer = tokenize(targ_lang)\n",
        "\n",
        "    return input_tensor, target_tensor, inp_lang_tokenizer, targ_lang_tokenizer"
      ]
    },
    {
      "cell_type": "markdown",
      "source": [
        "It loads the dataset consisting of the 'pre_answers' and 'pre_questions' lists and takes the amount of samples specified by the num_examples variable. It is assigned to the variables 'input_tensor', 'target_tensor', 'inp_lang' and 'targ_lang' with the 'load_dataset' function.\n",
        "\n",
        "Next, the maximum length of 'target_tensor' is calculated as 'max_length_targ' and the maximum length of 'input_tensor' is 'max_length_inp'. These values will be used to determine the lengths of the inputs and outputs of the model that will be used later."
      ],
      "metadata": {
        "id": "BM8PQh-pRkQb"
      }
    },
    {
      "cell_type": "code",
      "execution_count": 8,
      "metadata": {
        "execution": {
          "iopub.execute_input": "2022-07-24T18:28:54.281522Z",
          "iopub.status.busy": "2022-07-24T18:28:54.280683Z",
          "iopub.status.idle": "2022-07-24T18:28:54.638248Z",
          "shell.execute_reply": "2022-07-24T18:28:54.639215Z"
        },
        "papermill": {
          "duration": 0.413461,
          "end_time": "2022-07-24T18:28:54.639453",
          "exception": false,
          "start_time": "2022-07-24T18:28:54.225992",
          "status": "completed"
        },
        "tags": [],
        "id": "_ZwiEQOjmy8_"
      },
      "outputs": [],
      "source": [
        "#It is assigned to the variables 'input_tensor', 'target_tensor', 'inp_lang' and 'targ_lang' with the 'load_dataset' function.\n",
        "#These values will be used to determine the lengths of the inputs and outputs of the model that will be used later.\n",
        "num_examples = 30000\n",
        "data = pre_answers, pre_questions\n",
        "input_tensor, target_tensor, inp_lang, targ_lang = load_dataset(data, num_examples)\n",
        "\n",
        "# Calculate max_length of the target tensors\n",
        "max_length_targ, max_length_inp = target_tensor.shape[1], input_tensor.shape[1]"
      ]
    },
    {
      "cell_type": "markdown",
      "source": [
        "It uses 'input_tensor' and 'target_tensor' to separate datasets into training and validation sets. The train_test_split() function splits the 'input_tensor' and 'target_tensor' datasets as 80% training 20% validation.\n",
        "\n",
        "Finally, using the \"len()\" function, the lengths of the training and validation sets are printed to the screen."
      ],
      "metadata": {
        "id": "YNhlRWkrRonS"
      }
    },
    {
      "cell_type": "code",
      "execution_count": 9,
      "metadata": {
        "execution": {
          "iopub.execute_input": "2022-07-24T18:28:54.730122Z",
          "iopub.status.busy": "2022-07-24T18:28:54.728731Z",
          "iopub.status.idle": "2022-07-24T18:28:54.734333Z",
          "shell.execute_reply": "2022-07-24T18:28:54.733881Z"
        },
        "papermill": {
          "duration": 0.052894,
          "end_time": "2022-07-24T18:28:54.734511",
          "exception": false,
          "start_time": "2022-07-24T18:28:54.681617",
          "status": "completed"
        },
        "tags": [],
        "colab": {
          "base_uri": "https://localhost:8080/"
        },
        "id": "RdJUTumfmy9A",
        "outputId": "5fadb2ee-7955-4b56-c6ef-e2fb969163dd"
      },
      "outputs": [
        {
          "output_type": "stream",
          "name": "stdout",
          "text": [
            "2980 2980 745 745\n"
          ]
        }
      ],
      "source": [
        "# Creating training and validation sets using an 80-20 split\n",
        "input_tensor_train, input_tensor_val, target_tensor_train, target_tensor_val = train_test_split(input_tensor, target_tensor, test_size=0.2)\n",
        "\n",
        "# Show length\n",
        "print(len(input_tensor_train), len(target_tensor_train), len(input_tensor_val), len(target_tensor_val))"
      ]
    },
    {
      "cell_type": "markdown",
      "metadata": {
        "papermill": {
          "duration": 0.026108,
          "end_time": "2022-07-24T18:28:54.787713",
          "exception": false,
          "start_time": "2022-07-24T18:28:54.761605",
          "status": "completed"
        },
        "tags": [],
        "id": "8lDdxMyhmy9A"
      },
      "source": [
        "# Word to index"
      ]
    },
    {
      "cell_type": "markdown",
      "source": [
        "It recycles using a given tensor (numerical dataset) and a language tokenizer. The function recycles each numeric value in the given tensor using the index_word property of the language tokenizer. The recycled word and numeric value are printed on the screen. This function can be used to convert the outputs of the model into real words and make it easier to understand what it says."
      ],
      "metadata": {
        "id": "BsaP3bWDSFe4"
      }
    },
    {
      "cell_type": "code",
      "execution_count": 10,
      "metadata": {
        "execution": {
          "iopub.execute_input": "2022-07-24T18:28:54.848046Z",
          "iopub.status.busy": "2022-07-24T18:28:54.846131Z",
          "iopub.status.idle": "2022-07-24T18:28:54.848653Z",
          "shell.execute_reply": "2022-07-24T18:28:54.849125Z"
        },
        "papermill": {
          "duration": 0.035058,
          "end_time": "2022-07-24T18:28:54.849294",
          "exception": false,
          "start_time": "2022-07-24T18:28:54.814236",
          "status": "completed"
        },
        "tags": [],
        "id": "mMMP9Kjimy9A"
      },
      "outputs": [],
      "source": [
        "#The function recycles each numeric value in the given tensor using the index_word property of the language tokenizer.\n",
        "#The recycled word and numeric value are printed on the screen.\n",
        "def convert(lang, tensor):\n",
        "    for t in tensor:\n",
        "        if t!=0:\n",
        "            print (\"%d ----> %s\" % (t, lang.index_word[t]))"
      ]
    },
    {
      "cell_type": "markdown",
      "source": [
        "Using the \"convert\" function, it prints the numeric values of the first samples in the training sets converted to real words. First, the first instances of the training sets are determined as input_tensor_train[0] and target_tensor_train[0].\n",
        "Then, using the convert function, the recycled version is printed on the screen. This process is done separately as \"Input Language\" and \"Target Language\". This process allows you to control what the outputs of the model represent and look like."
      ],
      "metadata": {
        "id": "aUsDNk96SUOk"
      }
    },
    {
      "cell_type": "code",
      "execution_count": 11,
      "metadata": {
        "execution": {
          "iopub.execute_input": "2022-07-24T18:28:54.908997Z",
          "iopub.status.busy": "2022-07-24T18:28:54.906524Z",
          "iopub.status.idle": "2022-07-24T18:28:54.912866Z",
          "shell.execute_reply": "2022-07-24T18:28:54.913857Z"
        },
        "papermill": {
          "duration": 0.038529,
          "end_time": "2022-07-24T18:28:54.913984",
          "exception": false,
          "start_time": "2022-07-24T18:28:54.875455",
          "status": "completed"
        },
        "tags": [],
        "colab": {
          "base_uri": "https://localhost:8080/"
        },
        "id": "EFSOJrpemy9B",
        "outputId": "55d4fec2-858e-4ac7-b48f-ef15289ce3c6"
      },
      "outputs": [
        {
          "output_type": "stream",
          "name": "stdout",
          "text": [
            "Input Language; index to word mapping\n",
            "1 ----> <start>\n",
            "10 ----> it\n",
            "26 ----> was\n",
            "86 ----> new\n",
            "23 ----> in\n",
            "3 ----> .\n",
            "2 ----> <end>\n",
            "\n",
            "Target Language; index to word mapping\n",
            "1 ----> <start>\n",
            "25 ----> so\n",
            "7 ----> ,\n",
            "9 ----> it\n",
            "12 ----> s\n",
            "172 ----> pretty\n",
            "143 ----> old\n",
            "101 ----> now\n",
            "3 ----> .\n",
            "2 ----> <end>\n"
          ]
        }
      ],
      "source": [
        "#First, the first instances of the training sets are determined as input_tensor_train[0] and target_tensor_train[0].\n",
        "#This process is done separately as \"Input Language\" and \"Target Language\".\n",
        "print (\"Input Language; index to word mapping\")\n",
        "convert(inp_lang, input_tensor_train[0])\n",
        "print ()\n",
        "print (\"Target Language; index to word mapping\")\n",
        "convert(targ_lang, target_tensor_train[0])"
      ]
    },
    {
      "cell_type": "markdown",
      "metadata": {
        "papermill": {
          "duration": 0.028043,
          "end_time": "2022-07-24T18:28:54.970616",
          "exception": false,
          "start_time": "2022-07-24T18:28:54.942573",
          "status": "completed"
        },
        "tags": [],
        "id": "szv52AaNmy9B"
      },
      "source": [
        "# Creating the Tensorflow dataset"
      ]
    },
    {
      "cell_type": "markdown",
      "source": [
        "Prepares datasets in such a way that the model can be used for training. First, the \"BUFFER_SIZE\" variable, which will be used to randomly select samples from the datasets, is set as the length of the \"input_tensor_train\" dataset. In addition, the \"BATCH_SIZE\" variable to be used in each training step is determined.\n",
        "\n",
        "Then, using the \"tf.data.Dataset.from_tensor_slices()\" function, datasets consisting of input and target tensors are created and random samples are selected with the \"shuffle()\" function. Then, with the \"batch()\" function, the datasets are grouped by BATCH_SIZE.\n",
        "\n",
        "Finally, the first samples are taken from the dataset variable and its dimensions are printed on the screen using the shape property. This process is used to verify that datasets are prepared correctly and grouped by BATCH_SIZE."
      ],
      "metadata": {
        "id": "IX3Pg8v0TEWn"
      }
    },
    {
      "cell_type": "code",
      "execution_count": 12,
      "metadata": {
        "execution": {
          "iopub.execute_input": "2022-07-24T18:28:56.877755Z",
          "iopub.status.busy": "2022-07-24T18:28:56.875077Z",
          "iopub.status.idle": "2022-07-24T18:28:56.938811Z",
          "shell.execute_reply": "2022-07-24T18:28:56.937933Z"
        },
        "papermill": {
          "duration": 1.940869,
          "end_time": "2022-07-24T18:28:56.938939",
          "exception": false,
          "start_time": "2022-07-24T18:28:54.998070",
          "status": "completed"
        },
        "tags": [],
        "colab": {
          "base_uri": "https://localhost:8080/"
        },
        "id": "EiPvqlQ9my9B",
        "outputId": "004b0166-afea-4ada-bbb2-e8d339606ebc"
      },
      "outputs": [
        {
          "output_type": "execute_result",
          "data": {
            "text/plain": [
              "(TensorShape([64, 24]), TensorShape([64, 24]))"
            ]
          },
          "metadata": {},
          "execution_count": 12
        }
      ],
      "source": [
        "#First, the \"BUFFER_SIZE\" variable, which will be used to randomly select samples from the datasets, is set as the length of the \"input_tensor_train\" dataset.\n",
        "#In addition, the \"BATCH_SIZE\" variable to be used in each training step is determined.\n",
        "#This process is used to verify that datasets are prepared correctly and grouped by BATCH_SIZE.\n",
        "BUFFER_SIZE = len(input_tensor_train)\n",
        "BATCH_SIZE = 64\n",
        "steps_per_epoch = len(input_tensor_train)//BATCH_SIZE\n",
        "embedding_dim = 256\n",
        "units = 1024\n",
        "vocab_inp_size = len(inp_lang.word_index)+1\n",
        "vocab_tar_size = len(targ_lang.word_index)+1\n",
        "\n",
        "dataset = tf.data.Dataset.from_tensor_slices((input_tensor_train, target_tensor_train)).shuffle(BUFFER_SIZE)\n",
        "dataset = dataset.batch(BATCH_SIZE, drop_remainder=True)\n",
        "\n",
        "example_input_batch, example_target_batch = next(iter(dataset))\n",
        "example_input_batch.shape, example_target_batch.shape"
      ]
    },
    {
      "cell_type": "markdown",
      "metadata": {
        "papermill": {
          "duration": 0.025998,
          "end_time": "2022-07-24T18:28:56.990181",
          "exception": false,
          "start_time": "2022-07-24T18:28:56.964183",
          "status": "completed"
        },
        "tags": [],
        "id": "Qf3vMqqemy9C"
      },
      "source": [
        "# Encoder/Decoder classes with attention equations"
      ]
    },
    {
      "cell_type": "markdown",
      "metadata": {
        "papermill": {
          "duration": 0.024735,
          "end_time": "2022-07-24T18:28:57.040372",
          "exception": false,
          "start_time": "2022-07-24T18:28:57.015637",
          "status": "completed"
        },
        "tags": [],
        "id": "JbGp-ttSmy9C"
      },
      "source": [
        "## Encoder"
      ]
    },
    {
      "cell_type": "markdown",
      "source": [
        "Defining an encoder class. An encoder is a layer that converts a text input to numeric values and converts these numeric values into a format that the model can understand.\n",
        "\n",
        "The encoder class takes parameters such as \"vocab_size\" (vocabulary size), \"embedding_dim\" (size of input vectors), \"enc_units\" (size of output vectors), and \"batch_sz\" (number of samples to use in each training step).\n",
        "\n",
        "Inside the class, the Embedding layer is created. This layer works with the input texts converted to numeric values. Then the GRU layer is created. This layer creates a meaningful summary of the input texts and returns a vector as output.\n",
        "\n",
        "The \"call()\" method makes the encoder layer work. Inside this method, input texts are converted to numeric values as a result of the embedding layer working. A meaningful summary of the texts is then created using the \"gru\" layer, and this summary is output as a vector. At the same time, the last state of the GRU layer is returned.\n",
        "\n",
        "The \"initialize_hidden_state()\" method sets the initial state (initial state) of the GRU layer as a zero vector. This method is called before each training step and is used to set the initial state of the GRU layer as a zero vector.\n",
        "\n",
        "This Encoder class is used to generate a meaningful summary of text inputs and convert that summary into a format that the model can understand. This digest is then used by the decoder layer."
      ],
      "metadata": {
        "id": "Xc2Dz0FhTdOP"
      }
    },
    {
      "cell_type": "code",
      "execution_count": 13,
      "metadata": {
        "execution": {
          "iopub.execute_input": "2022-07-24T18:28:57.099362Z",
          "iopub.status.busy": "2022-07-24T18:28:57.097302Z",
          "iopub.status.idle": "2022-07-24T18:28:57.099928Z",
          "shell.execute_reply": "2022-07-24T18:28:57.100362Z"
        },
        "papermill": {
          "duration": 0.034505,
          "end_time": "2022-07-24T18:28:57.100494",
          "exception": false,
          "start_time": "2022-07-24T18:28:57.065989",
          "status": "completed"
        },
        "tags": [],
        "id": "BaMcG3aXmy9C"
      },
      "outputs": [],
      "source": [
        "#This layer creates a meaningful summary of the input texts and returns a vector as output.\n",
        "#A meaningful summary of the texts is then created using the \"gru\" layer, and this summary is output as a vector.\n",
        "class Encoder(tf.keras.Model):\n",
        "    def __init__(self, vocab_size, embedding_dim, enc_units, batch_sz):\n",
        "        super(Encoder, self).__init__()\n",
        "        self.batch_sz = batch_sz\n",
        "        self.enc_units = enc_units\n",
        "        self.embedding = tf.keras.layers.Embedding(vocab_size, embedding_dim)\n",
        "        self.gru = tf.keras.layers.GRU(self.enc_units,\n",
        "                                       return_sequences=True,\n",
        "                                       return_state=True,\n",
        "                                       recurrent_initializer='glorot_uniform')\n",
        "\n",
        "    def call(self, x, hidden):\n",
        "        x = self.embedding(x)\n",
        "        output, state = self.gru(x, initial_state = hidden)\n",
        "        return output, state\n",
        "\n",
        "    def initialize_hidden_state(self):\n",
        "        return tf.zeros((self.batch_sz, self.enc_units))"
      ]
    },
    {
      "cell_type": "markdown",
      "source": [
        "In this code cell, it creates a real encoder model using the predefined Encoder class. This model takes parameters such as \"vocab_inp_size\" (input vocabulary size), \"embedding_dim\" (size of input vectors), \"units\" (size of output vectors), and \"BATCH_SIZE\" (number of samples to use in each training step).\n",
        "\n",
        "Next, the initial state of the encoder model is created using the \"initialize_hidden_state()\" method. This initial state is used before each training step and is used to set the start of operation of the encoder model as the zero vector.\n",
        "\n",
        "Finally, the output and hidden state of the encoder model is generated using a sample input text named \"example_input_batch\". The dimensions of this output and the hidden state are printed, and if these dimensions are said to be correct, it means that the encoder model was created correctly."
      ],
      "metadata": {
        "id": "GYeGUawQVAhh"
      }
    },
    {
      "cell_type": "code",
      "execution_count": 14,
      "metadata": {
        "execution": {
          "iopub.execute_input": "2022-07-24T18:28:57.155354Z",
          "iopub.status.busy": "2022-07-24T18:28:57.154825Z",
          "iopub.status.idle": "2022-07-24T18:28:59.217856Z",
          "shell.execute_reply": "2022-07-24T18:28:59.217238Z"
        },
        "papermill": {
          "duration": 2.092491,
          "end_time": "2022-07-24T18:28:59.218015",
          "exception": false,
          "start_time": "2022-07-24T18:28:57.125524",
          "status": "completed"
        },
        "tags": [],
        "colab": {
          "base_uri": "https://localhost:8080/"
        },
        "id": "E9EPshz0my9C",
        "outputId": "a1f7f4ae-f9cd-41f0-bdec-4b2c9e294351"
      },
      "outputs": [
        {
          "output_type": "stream",
          "name": "stdout",
          "text": [
            "Encoder output shape: (batch size, sequence length, units) (64, 24, 1024)\n",
            "Encoder Hidden state shape: (batch size, units) (64, 1024)\n"
          ]
        }
      ],
      "source": [
        "#This model takes parameters such as \"vocab_inp_size\" (input vocabulary size), \"embedding_dim\" (size of input vectors), \"units\" (size of output vectors),\n",
        "# and \"BATCH_SIZE\" (number of samples to use in each training step).\n",
        "encoder = Encoder(vocab_inp_size, embedding_dim, units, BATCH_SIZE)\n",
        "\n",
        "# sample input\n",
        "sample_hidden = encoder.initialize_hidden_state()\n",
        "sample_output, sample_hidden = encoder(example_input_batch, sample_hidden)\n",
        "print ('Encoder output shape: (batch size, sequence length, units) {}'.format(sample_output.shape))\n",
        "print ('Encoder Hidden state shape: (batch size, units) {}'.format(sample_hidden.shape))"
      ]
    },
    {
      "cell_type": "markdown",
      "metadata": {
        "papermill": {
          "duration": 0.025403,
          "end_time": "2022-07-24T18:28:59.269927",
          "exception": false,
          "start_time": "2022-07-24T18:28:59.244524",
          "status": "completed"
        },
        "tags": [],
        "id": "K1caUUyWmy9C"
      },
      "source": [
        "## Bahdanau Attention"
      ]
    },
    {
      "cell_type": "markdown",
      "source": [
        "In this code cell, it creates a class called \"BahdanauAttention\". This class is used to implement the Bahdanau Attention mechanism. The Attention mechanism is used to determine which parts of the vectors produced by the encoder layer should pay more attention to the decoder layer.\n",
        "\n",
        "Bahdanau Attention is implemented using the \"call()\" method. This method takes two inputs named \"query\" (query vector) and \"values\" (value vectors). The \"query\" and \"values\" vectors are calculated by performing mathematical operations. Scores are returned as a tensor named \"attention_weights\". This tensor contains the score of each value vector, and these scores determine which parts the decoder layer should focus its attention on.\n",
        "\n",
        "It also returns a tensor named \"context_vector\", which is the average of the vectors where the tensor query vector focuses on the value vectors.\n",
        "\n",
        "The Bahdanau Attention mechanism enables the decoder layer to generate more meaningful responses."
      ],
      "metadata": {
        "id": "UyMyt8KpVG1z"
      }
    },
    {
      "cell_type": "code",
      "execution_count": 15,
      "metadata": {
        "execution": {
          "iopub.execute_input": "2022-07-24T18:28:59.329344Z",
          "iopub.status.busy": "2022-07-24T18:28:59.328664Z",
          "iopub.status.idle": "2022-07-24T18:28:59.331766Z",
          "shell.execute_reply": "2022-07-24T18:28:59.331373Z"
        },
        "papermill": {
          "duration": 0.035839,
          "end_time": "2022-07-24T18:28:59.331889",
          "exception": false,
          "start_time": "2022-07-24T18:28:59.296050",
          "status": "completed"
        },
        "tags": [],
        "id": "dUJys1mimy9D"
      },
      "outputs": [],
      "source": [
        "#This class is used to implement the Bahdanau Attention mechanism.\n",
        "#This tensor contains the score of each value vector, and these scores determine which parts the decoder layer should focus its attention on.\n",
        "class BahdanauAttention(tf.keras.layers.Layer):\n",
        "    def __init__(self, units):\n",
        "        super(BahdanauAttention, self).__init__()\n",
        "        self.W1 = tf.keras.layers.Dense(units)\n",
        "        self.W2 = tf.keras.layers.Dense(units)\n",
        "        self.V = tf.keras.layers.Dense(1)\n",
        "\n",
        "    def call(self, query, values):\n",
        "        # query hidden state shape == (batch_size, hidden size)\n",
        "        # query_with_time_axis shape == (batch_size, 1, hidden size)\n",
        "        # values shape == (batch_size, max_len, hidden size)\n",
        "        # we are doing this to broadcast addition along the time axis to calculate the score\n",
        "        query_with_time_axis = tf.expand_dims(query, 1)\n",
        "\n",
        "        # score shape == (batch_size, max_length, 1)\n",
        "        # we get 1 at the last axis because we are applying score to self.V\n",
        "        # the shape of the tensor before applying self.V is (batch_size, max_length, units)\n",
        "        score = self.V(tf.nn.tanh(\n",
        "            self.W1(query_with_time_axis) + self.W2(values)))\n",
        "\n",
        "        # attention_weights shape == (batch_size, max_length, 1)\n",
        "        attention_weights = tf.nn.softmax(score, axis=1)\n",
        "\n",
        "        # context_vector shape after sum == (batch_size, hidden_size)\n",
        "        context_vector = attention_weights * values\n",
        "        context_vector = tf.reduce_sum(context_vector, axis=1)\n",
        "\n",
        "        return context_vector, attention_weights"
      ]
    },
    {
      "cell_type": "markdown",
      "source": [
        "It creates a true attention model using the BahdanauAttention class defined in the previous snippet. This pattern is assigned to a variable named \"attention_layer\".\n",
        "\n",
        "Next, the attention model is invoked using a sample latent state vector and a sample output vector. These sample entries are stored in variables named \"sample_hidden\" and \"sample_output\".\n",
        "\n",
        "This call returns two tensors: \"attention_result\" and \"attention_weights\". The vector \"attention_result\" is the average of the vectors where the query vector focuses on the value vectors. The \"attention_weights\" tensor contains the score of each value vector.\n",
        "\n",
        "If the attention_result and attention_weights shapes are correct, it means that the attention model is created correctly."
      ],
      "metadata": {
        "id": "MRUEt-5tVist"
      }
    },
    {
      "cell_type": "code",
      "execution_count": 16,
      "metadata": {
        "execution": {
          "iopub.execute_input": "2022-07-24T18:28:59.390952Z",
          "iopub.status.busy": "2022-07-24T18:28:59.390205Z",
          "iopub.status.idle": "2022-07-24T18:28:59.990652Z",
          "shell.execute_reply": "2022-07-24T18:28:59.989693Z"
        },
        "papermill": {
          "duration": 0.633664,
          "end_time": "2022-07-24T18:28:59.990784",
          "exception": false,
          "start_time": "2022-07-24T18:28:59.357120",
          "status": "completed"
        },
        "tags": [],
        "colab": {
          "base_uri": "https://localhost:8080/"
        },
        "id": "6ILE_ZQHmy9D",
        "outputId": "efb91ed5-e98e-4225-b674-88a2ab15c823"
      },
      "outputs": [
        {
          "output_type": "stream",
          "name": "stdout",
          "text": [
            "Attention result shape: (batch size, units) (64, 1024)\n",
            "Attention weights shape: (batch_size, sequence_length, 1) (64, 24, 1)\n"
          ]
        }
      ],
      "source": [
        "#This pattern is assigned to a variable named \"attention_layer\". The \"attention_weights\" tensor contains the score of each value vector.\n",
        "#If the attention_result and attention_weights shapes are correct, it means that the attention model is created correctly.\n",
        "attention_layer = BahdanauAttention(10)\n",
        "attention_result, attention_weights = attention_layer(sample_hidden, sample_output)\n",
        "\n",
        "print(\"Attention result shape: (batch size, units) {}\".format(attention_result.shape))\n",
        "print(\"Attention weights shape: (batch_size, sequence_length, 1) {}\".format(attention_weights.shape))"
      ]
    },
    {
      "cell_type": "markdown",
      "metadata": {
        "papermill": {
          "duration": 0.025639,
          "end_time": "2022-07-24T18:29:00.043105",
          "exception": false,
          "start_time": "2022-07-24T18:29:00.017466",
          "status": "completed"
        },
        "tags": [],
        "id": "myW6BiN6my9D"
      },
      "source": [
        "## Decoder class"
      ]
    },
    {
      "cell_type": "markdown",
      "source": [
        "Creates a true decoder model using the \"Decoder\" class defined in the previous snippet. This pattern is assigned to a variable named \"decoder\".\n",
        "\n",
        "This model takes three inputs: x, hidden, and enc_output. x is the word index to be extracted by the decoder. hidden is the hidden state vector to be used by the decoder. enc_output are the output vectors produced by the encoder.\n",
        "\n",
        "The decoder model uses an attention layer. This attention layer is defined in a variable named \"attention\". It generates the context vector and attention weights using the attention layer, hidden and enc_output inputs.\n",
        "\n",
        "Then it reshapes x by adding x and context_vector. x is sent to the gru layer and the output vector is produced. The output vector is finally converted to word indexes via the fully connected layer.\n",
        "\n",
        "This decoder pattern returns x and the state and attention_weights tensors as output."
      ],
      "metadata": {
        "id": "UT2-tQ8qWsA_"
      }
    },
    {
      "cell_type": "code",
      "execution_count": 17,
      "metadata": {
        "execution": {
          "iopub.execute_input": "2022-07-24T18:29:00.103700Z",
          "iopub.status.busy": "2022-07-24T18:29:00.102998Z",
          "iopub.status.idle": "2022-07-24T18:29:00.105975Z",
          "shell.execute_reply": "2022-07-24T18:29:00.105575Z"
        },
        "papermill": {
          "duration": 0.036369,
          "end_time": "2022-07-24T18:29:00.106121",
          "exception": false,
          "start_time": "2022-07-24T18:29:00.069752",
          "status": "completed"
        },
        "tags": [],
        "id": "dxa_oMSsmy9D"
      },
      "outputs": [],
      "source": [
        "#This model takes three inputs: x, hidden, and enc_output. It generates the context vector and attention weights using the attention layer, hidden and enc_output inputs.\n",
        "#This decoder pattern returns x and the state and attention_weights tensors as output.\n",
        "class Decoder(tf.keras.Model):\n",
        "    def __init__(self, vocab_size, embedding_dim, dec_units, batch_sz):\n",
        "        super(Decoder, self).__init__()\n",
        "        self.batch_sz = batch_sz\n",
        "        self.dec_units = dec_units\n",
        "        self.embedding = tf.keras.layers.Embedding(vocab_size, embedding_dim)\n",
        "        self.gru = tf.keras.layers.GRU(self.dec_units,\n",
        "                                       return_sequences=True,\n",
        "                                       return_state=True,\n",
        "                                       recurrent_initializer='glorot_uniform')\n",
        "        self.fc = tf.keras.layers.Dense(vocab_size)\n",
        "\n",
        "        # used for attention\n",
        "        self.attention = BahdanauAttention(self.dec_units)\n",
        "\n",
        "    def call(self, x, hidden, enc_output):\n",
        "        # enc_output shape == (batch_size, max_length, hidden_size)\n",
        "        context_vector, attention_weights = self.attention(hidden, enc_output)\n",
        "\n",
        "        # x shape after passing through embedding == (batch_size, 1, embedding_dim)\n",
        "        x = self.embedding(x)\n",
        "\n",
        "        # x shape after concatenation == (batch_size, 1, embedding_dim + hidden_size)\n",
        "        x = tf.concat([tf.expand_dims(context_vector, 1), x], axis=-1)\n",
        "\n",
        "        # passing the concatenated vector to the GRU\n",
        "        output, state = self.gru(x)\n",
        "\n",
        "        # output shape == (batch_size * 1, hidden_size)\n",
        "        output = tf.reshape(output, (-1, output.shape[2]))\n",
        "\n",
        "        # output shape == (batch_size, vocab)\n",
        "        x = self.fc(output)\n",
        "\n",
        "        return x, state, attention_weights"
      ]
    },
    {
      "cell_type": "markdown",
      "source": [
        "Produces a sample output for the decoder model created from the \"Decoder\" class defined in the previous snippet. The sample output is returned as the word index tensor that the decoder model produces as its output. This example output should have a shape of (batch_size, vocab size). If this snippet works fine, it means that the decoder pattern is correctly defined."
      ],
      "metadata": {
        "id": "cE5bSd7lXGBT"
      }
    },
    {
      "cell_type": "code",
      "execution_count": 18,
      "metadata": {
        "execution": {
          "iopub.execute_input": "2022-07-24T18:29:00.165196Z",
          "iopub.status.busy": "2022-07-24T18:29:00.163733Z",
          "iopub.status.idle": "2022-07-24T18:29:00.207091Z",
          "shell.execute_reply": "2022-07-24T18:29:00.206264Z"
        },
        "papermill": {
          "duration": 0.074559,
          "end_time": "2022-07-24T18:29:00.207203",
          "exception": false,
          "start_time": "2022-07-24T18:29:00.132644",
          "status": "completed"
        },
        "tags": [],
        "colab": {
          "base_uri": "https://localhost:8080/"
        },
        "id": "DBGhdZZnmy9D",
        "outputId": "a92a8525-57bd-49b0-c6d7-f816c1eb7cdc"
      },
      "outputs": [
        {
          "output_type": "stream",
          "name": "stdout",
          "text": [
            "Decoder output shape: (batch_size, vocab size) (64, 2349)\n"
          ]
        }
      ],
      "source": [
        "#Produces a sample output for the decoder model created from the \"Decoder\" class defined in the previous snippet.\n",
        "decoder = Decoder(vocab_tar_size, embedding_dim, units, BATCH_SIZE)\n",
        "\n",
        "sample_decoder_output, _, _ = decoder(tf.random.uniform((BATCH_SIZE, 1)),\n",
        "                                      sample_hidden, sample_output)\n",
        "\n",
        "print ('Decoder output shape: (batch_size, vocab size) {}'.format(sample_decoder_output.shape))"
      ]
    },
    {
      "cell_type": "markdown",
      "source": [
        "This code defines the following:\n",
        "\n",
        "optimizer: The optimizer used in the model, which is the Adam optimizer. The Adam optimizer is a commonly used optimization algorithm in deep learning, it's computationally efficient, has little memory requirement and invarient to diagonal rescale of the gradients.\n",
        "\n",
        "loss_object: The loss function used to evaluate the model's performance. The loss function used is the SparseCategoricalCrossentropy loss, which is used for multi-class classification problem. The from_logits parameter is set to True, which indicates that the model's output is a logit. The reduction parameter is set to none, which means that the loss will not be averaged or summed across the batch dimension.\n",
        "\n",
        "lossfunction: A custom loss function, which takes two arguments: real and pred. These represent the true labels and predicted labels respectively. The function applies a mask to the loss object to ignore any predictions made on padding (where real == 0) and then calculates the mean loss. The final loss is returned by the function. In the function, a logical not operation is applied to real values which are equal to zero and the result is casted to loss dtype."
      ],
      "metadata": {
        "id": "rg2hFt1UYQnX"
      }
    },
    {
      "cell_type": "code",
      "execution_count": 19,
      "metadata": {
        "execution": {
          "iopub.execute_input": "2022-07-24T18:29:00.320105Z",
          "iopub.status.busy": "2022-07-24T18:29:00.319411Z",
          "iopub.status.idle": "2022-07-24T18:29:00.322793Z",
          "shell.execute_reply": "2022-07-24T18:29:00.322371Z"
        },
        "papermill": {
          "duration": 0.035356,
          "end_time": "2022-07-24T18:29:00.322896",
          "exception": false,
          "start_time": "2022-07-24T18:29:00.287540",
          "status": "completed"
        },
        "tags": [],
        "id": "j2EwZFY0my9E"
      },
      "outputs": [],
      "source": [
        "#The from_logits parameter is set to True, which indicates that the model's output is a logit.\n",
        "#The reduction parameter is set to none, which means that the loss will not be averaged or summed across the batch dimension.\n",
        "#The function applies a mask to the loss object to ignore any predictions made on padding (where real == 0) and then calculates the mean loss.\n",
        "optimizer = tf.keras.optimizers.Adam()\n",
        "loss_object = tf.keras.losses.SparseCategoricalCrossentropy(\n",
        "    from_logits=True, reduction='none')\n",
        "\n",
        "def loss_function(real, pred):\n",
        "    mask = tf.math.logical_not(tf.math.equal(real, 0))\n",
        "    loss_ = loss_object(real, pred)\n",
        "\n",
        "    mask = tf.cast(mask, dtype=loss_.dtype)\n",
        "    loss_ *= mask\n",
        "\n",
        "    return tf.reduce_mean(loss_)"
      ]
    },
    {
      "cell_type": "markdown",
      "source": [
        "This code defines a train_step function that is decorated with the @tf.function decorator. The function takes in three arguments: inp, targ, and enc_hidden.\n",
        "\n",
        "inp: input data for the encoder\n",
        "targ: target data for the decoder\n",
        "enc_hidden: initial hidden state of the encoder\n",
        "The function has the following steps:\n",
        "\n",
        "Initialize the loss variable to 0\n",
        "Start a GradientTape() context, which will record the operations for automatic differentiation\n",
        "Pass the input and initial hidden state to the encoder to get the encoder output and the final hidden state\n",
        "Set the initial hidden state of the decoder to be the final hidden state of the encoder\n",
        "Set the initial input of the decoder to be the start token, repeated BATCH_SIZE times.\n",
        "In a for loop, the decoder is passed the current input and hidden state, along with the encoder output. The predictions, final hidden state, and attention weights are returned by the decoder\n",
        "The loss is calculated by passing the target and predictions to the loss_function and adding the resulting loss to the accumulated loss\n",
        "The current input for the decoder is set to be the current target\n",
        "After the loop, the average loss is calculated by dividing the accumulated loss by the number of time steps.\n",
        "The variables to update are the trainable variables of both the encoder and decoder\n",
        "The gradients are calculated by calling the tape.gradient method on the loss and variables\n",
        "The optimizer is used to update the variables using the calculated gradients\n",
        "The final batch loss is returned\n",
        "The @tf.function decorator is used to convert the train_step function to a TensorFlow graph for performance optimization."
      ],
      "metadata": {
        "id": "V6NA0aq3fSjL"
      }
    },
    {
      "cell_type": "code",
      "execution_count": 20,
      "metadata": {
        "execution": {
          "iopub.execute_input": "2022-07-24T18:29:00.385300Z",
          "iopub.status.busy": "2022-07-24T18:29:00.383827Z",
          "iopub.status.idle": "2022-07-24T18:29:00.386052Z",
          "shell.execute_reply": "2022-07-24T18:29:00.386447Z"
        },
        "papermill": {
          "duration": 0.037289,
          "end_time": "2022-07-24T18:29:00.386574",
          "exception": false,
          "start_time": "2022-07-24T18:29:00.349285",
          "status": "completed"
        },
        "tags": [],
        "id": "1NMGEGiEmy9E"
      },
      "outputs": [],
      "source": [
        "#The predictions, final hidden state, and attention weights are returned by the decoder The loss is calculated by passing the target and predictions \n",
        "#to the loss_function and adding the resulting loss to the accumulated loss The current input for the decoder is set to be the current target\n",
        " #After the loop, the average loss is calculated by dividing the accumulated loss by the number of time steps.\n",
        "@tf.function\n",
        "def train_step(inp, targ, enc_hidden):\n",
        "    loss = 0\n",
        "\n",
        "    with tf.GradientTape() as tape:\n",
        "        enc_output, enc_hidden = encoder(inp, enc_hidden)\n",
        "\n",
        "        dec_hidden = enc_hidden\n",
        "\n",
        "        dec_input = tf.expand_dims([targ_lang.word_index['<start>']] * BATCH_SIZE, 1)\n",
        "\n",
        "        # Teacher forcing - feeding the target as the next input\n",
        "        for t in range(1, targ.shape[1]):\n",
        "            # passing enc_output to the decoder\n",
        "            predictions, dec_hidden, _ = decoder(dec_input, dec_hidden, enc_output)\n",
        "\n",
        "            loss += loss_function(targ[:, t], predictions)\n",
        "\n",
        "            # using teacher forcing\n",
        "            dec_input = tf.expand_dims(targ[:, t], 1)\n",
        "\n",
        "    batch_loss = (loss / int(targ.shape[1]))\n",
        "\n",
        "    variables = encoder.trainable_variables + decoder.trainable_variables\n",
        "\n",
        "    gradients = tape.gradient(loss, variables)\n",
        "\n",
        "    optimizer.apply_gradients(zip(gradients, variables))\n",
        "\n",
        "    return batch_loss"
      ]
    },
    {
      "cell_type": "markdown",
      "source": [
        "In this cell, trains on the given dataset. It performs 40 epochs on the given data set. For each epoch, the hidden state on the encoder side is reset and the total loss is reset. Then the train_step function is called for each sample in the data set and the loss for each sample is added to the total loss variable. The average loss value is printed every 4th epoch."
      ],
      "metadata": {
        "id": "2VwS3OBHg5Jd"
      }
    },
    {
      "cell_type": "code",
      "execution_count": 21,
      "metadata": {
        "execution": {
          "iopub.execute_input": "2022-07-24T18:29:00.445746Z",
          "iopub.status.busy": "2022-07-24T18:29:00.444972Z",
          "iopub.status.idle": "2022-07-24T18:33:12.028754Z",
          "shell.execute_reply": "2022-07-24T18:33:12.030000Z"
        },
        "papermill": {
          "duration": 251.616963,
          "end_time": "2022-07-24T18:33:12.030219",
          "exception": false,
          "start_time": "2022-07-24T18:29:00.413256",
          "status": "completed"
        },
        "tags": [],
        "colab": {
          "base_uri": "https://localhost:8080/"
        },
        "id": "5nr-qZxFmy9E",
        "outputId": "d8a0204c-1a80-468d-9e17-c0296f6211c4"
      },
      "outputs": [
        {
          "output_type": "stream",
          "name": "stdout",
          "text": [
            "Epoch:  4 Loss:1.5273\n",
            "Epoch:  8 Loss:1.2698\n",
            "Epoch: 12 Loss:1.0922\n",
            "Epoch: 16 Loss:0.9324\n",
            "Epoch: 20 Loss:0.7790\n",
            "Epoch: 24 Loss:0.5998\n",
            "Epoch: 28 Loss:0.4080\n",
            "Epoch: 32 Loss:0.2244\n",
            "Epoch: 36 Loss:0.1000\n",
            "Epoch: 40 Loss:0.0423\n"
          ]
        }
      ],
      "source": [
        "#It performs 40 epochs on the given data set.\n",
        "EPOCHS = 40\n",
        "\n",
        "for epoch in range(1, EPOCHS + 1):\n",
        "    enc_hidden = encoder.initialize_hidden_state()\n",
        "    total_loss = 0\n",
        "\n",
        "    for (batch, (inp, targ)) in enumerate(dataset.take(steps_per_epoch)):\n",
        "        batch_loss = train_step(inp, targ, enc_hidden)\n",
        "        total_loss += batch_loss\n",
        "\n",
        "    if(epoch % 4 == 0):\n",
        "        print('Epoch:{:3d} Loss:{:.4f}'.format(epoch,\n",
        "                                          total_loss / steps_per_epoch))"
      ]
    },
    {
      "cell_type": "markdown",
      "metadata": {
        "papermill": {
          "duration": 0.029737,
          "end_time": "2022-07-24T18:33:12.090263",
          "exception": false,
          "start_time": "2022-07-24T18:33:12.060526",
          "status": "completed"
        },
        "tags": [],
        "id": "pmcSLh83my9E"
      },
      "source": [
        "# Evaluating"
      ]
    },
    {
      "cell_type": "markdown",
      "source": [
        "This function is used to remove the \"<start>\" and \"<end>\" tags from a sentence. It takes a sentence as input and returns the sentence with the tags removed. The sentence is first split by \"<start>\" and then the last part of the split string is taken, which is the sentence without the \"<start>\" tag. This part is then again split by \"<end>\" and the first part of this split is taken, which is the sentence without the \"<end>\" tag. This is the final cleaned sentence that is returned."
      ],
      "metadata": {
        "id": "QUjdg2XCiDjM"
      }
    },
    {
      "cell_type": "code",
      "execution_count": 22,
      "metadata": {
        "execution": {
          "iopub.execute_input": "2022-07-24T18:33:12.162326Z",
          "iopub.status.busy": "2022-07-24T18:33:12.161681Z",
          "iopub.status.idle": "2022-07-24T18:33:12.164627Z",
          "shell.execute_reply": "2022-07-24T18:33:12.164209Z"
        },
        "papermill": {
          "duration": 0.040048,
          "end_time": "2022-07-24T18:33:12.164740",
          "exception": false,
          "start_time": "2022-07-24T18:33:12.124692",
          "status": "completed"
        },
        "tags": [],
        "id": "_tGGrf_omy9F"
      },
      "outputs": [],
      "source": [
        "#The sentence is first split by \"\" and then the last part of the split string is taken, which is the sentence without the \"\" tag.\n",
        "def remove_tags(sentence):\n",
        "    return sentence.split(\"<start>\")[-1].split(\"<end>\")[0]"
      ]
    },
    {
      "cell_type": "markdown",
      "source": [
        "This code defines a function called evaluate that takes an input sentence and returns the translation of that sentence.\n",
        "\n",
        "1)The input sentence is passed through a preprocess_sentence function to clean it up and make it suitable for the model.\n",
        "\n",
        "2)The cleaned up sentence is then tokenized by splitting it into individual words and getting the corresponding index for each word in the input language's word index.\n",
        "\n",
        "3)The tokenized sentence is then padded to a fixed maximum length (max_length_inp) using post-padding.\n",
        "\n",
        "4)The padded input is converted to a TensorFlow tensor.\n",
        "\n",
        "5)An empty string variable called result is initialized to store the generated translation.\n",
        "\n",
        "6)The initial hidden state of the encoder is set to a zero tensor with shape (1, units), where units is the number of hidden units in the encoder.\n",
        "\n",
        "7)The encoder is passed the input tensor and the initial hidden state to generate the encoder output and the final hidden state.\n",
        "\n",
        "8)The decoder's initial hidden state is set to the final hidden state of the encoder, and the initial input is set to the start token.\n",
        "\n",
        "9)In a for loop, the decoder is passed the current input and hidden state, along with the encoder output. The predictions, final hidden state, and attention weights are returned by the decoder.\n",
        "\n",
        "10)The predicted word ID is obtained by taking the argmax of the predictions.\n",
        "\n",
        "11)The predicted word is added to the result string.\n",
        "\n",
        "12)If the predicted word is the end token, the function returns the result and the original sentence.\n",
        "\n",
        "13)The predicted ID is then fed back into the model as the next input.\n",
        "\n",
        "14)The loop continues until the maximum target length is reached or the end token is generated.\n",
        "\n",
        "15)The final result is passed through a remove_tags function to remove any special tags.\n",
        "\n",
        "In short, this function takes an input sentence and uses the encoder-decoder model to generate a translation for it, the function takes a sentence as input, preprocess it, tokenize it, pad it and convert it to a tensor then pass it to the encoder to get the hidden state and the encoder output, then it pass this output to the decoder along with the hidden state and the start token, it then iteratively predict the next word using the decoder until it reaches the end token or max_length_targ, then the function returns the final predicted sentence and the original sentence."
      ],
      "metadata": {
        "id": "UPWWzJx0iTOp"
      }
    },
    {
      "cell_type": "code",
      "execution_count": 23,
      "metadata": {
        "execution": {
          "iopub.execute_input": "2022-07-24T18:33:12.233000Z",
          "iopub.status.busy": "2022-07-24T18:33:12.232349Z",
          "iopub.status.idle": "2022-07-24T18:33:12.235446Z",
          "shell.execute_reply": "2022-07-24T18:33:12.235034Z"
        },
        "papermill": {
          "duration": 0.040954,
          "end_time": "2022-07-24T18:33:12.235554",
          "exception": false,
          "start_time": "2022-07-24T18:33:12.194600",
          "status": "completed"
        },
        "tags": [],
        "id": "OC7Ci1_kmy9F"
      },
      "outputs": [],
      "source": [
        "#This function generates a translation of a sentence using the encoder-decoder model. It takes a sentence as input, preprocess it, tokenize it, \n",
        "#pad it and convert it to a tensor. It then passes this output to the decoder along with the hidden state and the start token or max_length_targ.\n",
        "def evaluate(sentence):\n",
        "    sentence = preprocess_sentence(sentence)\n",
        "\n",
        "    inputs = [inp_lang.word_index[i] for i in sentence.split(' ')]\n",
        "    inputs = tf.keras.preprocessing.sequence.pad_sequences([inputs],\n",
        "                                                         maxlen=max_length_inp,\n",
        "                                                         padding='post')\n",
        "    inputs = tf.convert_to_tensor(inputs)\n",
        "\n",
        "    result = ''\n",
        "\n",
        "    hidden = [tf.zeros((1, units))]\n",
        "    enc_out, enc_hidden = encoder(inputs, hidden)\n",
        "\n",
        "    dec_hidden = enc_hidden\n",
        "    dec_input = tf.expand_dims([targ_lang.word_index['<start>']], 0)\n",
        "\n",
        "    for t in range(max_length_targ):\n",
        "        predictions, dec_hidden, attention_weights = decoder(dec_input,\n",
        "                                                             dec_hidden,\n",
        "                                                             enc_out)\n",
        "\n",
        "        # storing the attention weights to plot later on\n",
        "        attention_weights = tf.reshape(attention_weights, (-1, ))\n",
        "\n",
        "        predicted_id = tf.argmax(predictions[0]).numpy()\n",
        "\n",
        "        result += targ_lang.index_word[predicted_id] + ' '\n",
        "\n",
        "        if targ_lang.index_word[predicted_id] == '<end>':\n",
        "            return remove_tags(result), remove_tags(sentence)\n",
        "\n",
        "        # the predicted ID is fed back into the model\n",
        "        dec_input = tf.expand_dims([predicted_id], 0)\n",
        "\n",
        "    return remove_tags(result), remove_tags(sentence)"
      ]
    },
    {
      "cell_type": "markdown",
      "metadata": {
        "papermill": {
          "duration": 0.029662,
          "end_time": "2022-07-24T18:33:12.295328",
          "exception": false,
          "start_time": "2022-07-24T18:33:12.265666",
          "status": "completed"
        },
        "tags": [],
        "id": "iPtP09Ctmy9F"
      },
      "source": [
        "# Answering the question"
      ]
    },
    {
      "cell_type": "code",
      "execution_count": 24,
      "metadata": {
        "execution": {
          "iopub.execute_input": "2022-07-24T18:33:12.359419Z",
          "iopub.status.busy": "2022-07-24T18:33:12.358721Z",
          "iopub.status.idle": "2022-07-24T18:33:12.361707Z",
          "shell.execute_reply": "2022-07-24T18:33:12.361258Z"
        },
        "papermill": {
          "duration": 0.03656,
          "end_time": "2022-07-24T18:33:12.361810",
          "exception": false,
          "start_time": "2022-07-24T18:33:12.325250",
          "status": "completed"
        },
        "tags": [],
        "id": "nqy90Csrmy9F"
      },
      "outputs": [],
      "source": [
        "def ask(sentence):\n",
        "    result, sentence = evaluate(sentence)\n",
        "\n",
        "    print('Question: %s' % (sentence))\n",
        "    print('Predicted answer: {}'.format(result))"
      ]
    },
    {
      "cell_type": "code",
      "execution_count": 25,
      "metadata": {
        "execution": {
          "iopub.execute_input": "2022-07-24T18:33:12.426168Z",
          "iopub.status.busy": "2022-07-24T18:33:12.425423Z",
          "iopub.status.idle": "2022-07-24T18:33:12.502335Z",
          "shell.execute_reply": "2022-07-24T18:33:12.501479Z"
        },
        "papermill": {
          "duration": 0.111333,
          "end_time": "2022-07-24T18:33:12.502447",
          "exception": false,
          "start_time": "2022-07-24T18:33:12.391114",
          "status": "completed"
        },
        "tags": [],
        "colab": {
          "base_uri": "https://localhost:8080/"
        },
        "id": "53eFiFT3my9F",
        "outputId": "a5987dfd-c27b-427e-ee1a-70962ef92be8"
      },
      "outputs": [
        {
          "output_type": "stream",
          "name": "stdout",
          "text": [
            "Question:  i ve been great . what about you ? \n",
            "Predicted answer: i m serious . \n"
          ]
        }
      ],
      "source": [
        "ask(questions[4])"
      ]
    },
    {
      "cell_type": "code",
      "execution_count": 26,
      "metadata": {
        "colab": {
          "base_uri": "https://localhost:8080/"
        },
        "id": "PkcSPDTDmy9F",
        "outputId": "cc9f003b-9e3c-4401-fef8-eee3ea921df2"
      },
      "outputs": [
        {
          "output_type": "stream",
          "name": "stdout",
          "text": [
            "Question:  do you like it there ? \n",
            "Predicted answer: it s okay . it s okay . it s okay . it s okay . it s okay . it s okay . \n"
          ]
        }
      ],
      "source": [
        "ask(questions[8])"
      ]
    },
    {
      "cell_type": "markdown",
      "source": [
        "#API\n"
      ],
      "metadata": {
        "id": "kiTIeCETrqRS"
      }
    },
    {
      "cell_type": "code",
      "source": [
        "while True:\n",
        "    sentence = input(\"Ask a question:\")\n",
        "    result, sentence = evaluate(sentence)\n",
        "    print('Predicted answer: {}'.format(result))"
      ],
      "metadata": {
        "colab": {
          "base_uri": "https://localhost:8080/"
        },
        "id": "ChxMlY6TrEMs",
        "outputId": "2499b422-95ac-4a25-e237-d451957eb106"
      },
      "execution_count": null,
      "outputs": [
        {
          "output_type": "stream",
          "name": "stdout",
          "text": [
            "Ask a question:hi, how are you doing?\n",
            "Predicted answer: i m fine . how about yourself ? \n",
            "Ask a question:what school do you go to?\n",
            "Predicted answer: i go to pcc . \n",
            "Ask a question:how do you like it so far?\n",
            "Predicted answer: i like it so far . my classes are pretty good right now . \n",
            "Ask a question:really? why is it?\n",
            "Predicted answer: because you can see the stars perfectly . \n",
            "Ask a question:you like the rain?\n",
            "Predicted answer: i loved it in the beach , so . it s in a pink navel . \n"
          ]
        }
      ]
    }
  ],
  "metadata": {
    "kernelspec": {
      "display_name": "Python 3 (ipykernel)",
      "language": "python",
      "name": "python3"
    },
    "language_info": {
      "codemirror_mode": {
        "name": "ipython",
        "version": 3
      },
      "file_extension": ".py",
      "mimetype": "text/x-python",
      "name": "python",
      "nbconvert_exporter": "python",
      "pygments_lexer": "ipython3",
      "version": "3.10.9"
    },
    "papermill": {
      "default_parameters": {},
      "duration": 271.634796,
      "end_time": "2022-07-24T18:33:14.848347",
      "environment_variables": {},
      "exception": null,
      "input_path": "__notebook__.ipynb",
      "output_path": "__notebook__.ipynb",
      "parameters": {},
      "start_time": "2022-07-24T18:28:43.213551",
      "version": "2.2.2"
    },
    "colab": {
      "provenance": []
    },
    "accelerator": "GPU",
    "gpuClass": "standard"
  },
  "nbformat": 4,
  "nbformat_minor": 0
}